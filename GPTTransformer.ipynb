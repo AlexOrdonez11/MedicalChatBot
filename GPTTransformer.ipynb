{
 "cells": [
  {
   "cell_type": "code",
   "execution_count": 73,
   "id": "ac2cc8a5-ce9f-4e33-b814-dec80cc2eb72",
   "metadata": {},
   "outputs": [],
   "source": [
    "import tensorflow as tf\n",
    "from torch.utils.data import Dataset, DataLoader\n",
    "from transformers import GPT2LMHeadModel, GPT2Tokenizer, AdamW\n",
    "import pandas as pd\n",
    "import numpy as np\n",
    "import os\n",
    "import torch\n",
    "import gradio as gr"
   ]
  },
  {
   "cell_type": "code",
   "execution_count": 14,
   "id": "2a8e9a29-3a0f-4413-b40b-7dfabe0b2532",
   "metadata": {},
   "outputs": [
    {
     "name": "stdout",
     "output_type": "stream",
     "text": [
      "2.17.0\n",
      "Keras version: 3.5.0\n"
     ]
    }
   ],
   "source": [
    "print(tf.__version__) \n",
    "print(\"Keras version:\", tf.keras.__version__)"
   ]
  },
  {
   "cell_type": "code",
   "execution_count": 16,
   "id": "bd136201-5c9e-4141-bfb1-296210b84553",
   "metadata": {},
   "outputs": [
    {
     "name": "stderr",
     "output_type": "stream",
     "text": [
      "C:\\Users\\chris\\anaconda3\\Lib\\site-packages\\numpy\\core\\fromnumeric.py:59: FutureWarning: 'DataFrame.swapaxes' is deprecated and will be removed in a future version. Please use 'DataFrame.transpose' instead.\n",
      "  return bound(*args, **kwds)\n"
     ]
    },
    {
     "data": {
      "text/html": [
       "<div>\n",
       "<style scoped>\n",
       "    .dataframe tbody tr th:only-of-type {\n",
       "        vertical-align: middle;\n",
       "    }\n",
       "\n",
       "    .dataframe tbody tr th {\n",
       "        vertical-align: top;\n",
       "    }\n",
       "\n",
       "    .dataframe thead th {\n",
       "        text-align: right;\n",
       "    }\n",
       "</style>\n",
       "<table border=\"1\" class=\"dataframe\">\n",
       "  <thead>\n",
       "    <tr style=\"text-align: right;\">\n",
       "      <th></th>\n",
       "      <th>Conversation</th>\n",
       "    </tr>\n",
       "  </thead>\n",
       "  <tbody>\n",
       "    <tr>\n",
       "      <th>0</th>\n",
       "      <td>The conversation between human and AI assistan...</td>\n",
       "    </tr>\n",
       "    <tr>\n",
       "      <th>1</th>\n",
       "      <td>The conversation between human and AI assistan...</td>\n",
       "    </tr>\n",
       "    <tr>\n",
       "      <th>2</th>\n",
       "      <td>The conversation between human and AI assistan...</td>\n",
       "    </tr>\n",
       "    <tr>\n",
       "      <th>3</th>\n",
       "      <td>The conversation between human and AI assistan...</td>\n",
       "    </tr>\n",
       "    <tr>\n",
       "      <th>4</th>\n",
       "      <td>The conversation between human and AI assistan...</td>\n",
       "    </tr>\n",
       "    <tr>\n",
       "      <th>...</th>\n",
       "      <td>...</td>\n",
       "    </tr>\n",
       "    <tr>\n",
       "      <th>102</th>\n",
       "      <td>The conversation between human and AI assistan...</td>\n",
       "    </tr>\n",
       "    <tr>\n",
       "      <th>103</th>\n",
       "      <td>The conversation between human and AI assistan...</td>\n",
       "    </tr>\n",
       "    <tr>\n",
       "      <th>104</th>\n",
       "      <td>The conversation between human and AI assistan...</td>\n",
       "    </tr>\n",
       "    <tr>\n",
       "      <th>105</th>\n",
       "      <td>The conversation between human and AI assistan...</td>\n",
       "    </tr>\n",
       "    <tr>\n",
       "      <th>106</th>\n",
       "      <td>The conversation between human and AI assistan...</td>\n",
       "    </tr>\n",
       "  </tbody>\n",
       "</table>\n",
       "<p>107 rows × 1 columns</p>\n",
       "</div>"
      ],
      "text/plain": [
       "                                          Conversation\n",
       "0    The conversation between human and AI assistan...\n",
       "1    The conversation between human and AI assistan...\n",
       "2    The conversation between human and AI assistan...\n",
       "3    The conversation between human and AI assistan...\n",
       "4    The conversation between human and AI assistan...\n",
       "..                                                 ...\n",
       "102  The conversation between human and AI assistan...\n",
       "103  The conversation between human and AI assistan...\n",
       "104  The conversation between human and AI assistan...\n",
       "105  The conversation between human and AI assistan...\n",
       "106  The conversation between human and AI assistan...\n",
       "\n",
       "[107 rows x 1 columns]"
      ]
     },
     "execution_count": 16,
     "metadata": {},
     "output_type": "execute_result"
    }
   ],
   "source": [
    "#Loading the data and Cleaning\n",
    "df = pd.read_csv(r\"train.csv\")\n",
    "df = np.array_split(df,1000)[0]\n",
    "df"
   ]
  },
  {
   "cell_type": "code",
   "execution_count": 18,
   "id": "bd8fb56b-f473-4a57-9fbd-d70eb4b3243d",
   "metadata": {},
   "outputs": [],
   "source": [
    "df['Conversation1']=df['Conversation'].str.replace('\\n', '')"
   ]
  },
  {
   "cell_type": "code",
   "execution_count": 20,
   "id": "b82d853d-cd80-4c06-a25f-91a9e6f5f36d",
   "metadata": {},
   "outputs": [],
   "source": [
    "df['Conversation1']=df['Conversation1'].str.replace('The conversation between human and AI assistant.[|Human|] ','')"
   ]
  },
  {
   "cell_type": "code",
   "execution_count": 22,
   "id": "04239dad-483e-4b9b-8f89-01d8302414ae",
   "metadata": {},
   "outputs": [
    {
     "name": "stderr",
     "output_type": "stream",
     "text": [
      "<>:1: SyntaxWarning: invalid escape sequence '\\['\n",
      "<>:2: SyntaxWarning: invalid escape sequence '\\['\n",
      "<>:1: SyntaxWarning: invalid escape sequence '\\['\n",
      "<>:2: SyntaxWarning: invalid escape sequence '\\['\n",
      "C:\\Users\\chris\\AppData\\Local\\Temp\\ipykernel_25484\\2224507441.py:1: SyntaxWarning: invalid escape sequence '\\['\n",
      "  df['Human']=\"User: \"+df['Conversation1'].str.split(\"\\[\\|AI\\|\\]\",expand=True)[0]\n",
      "C:\\Users\\chris\\AppData\\Local\\Temp\\ipykernel_25484\\2224507441.py:2: SyntaxWarning: invalid escape sequence '\\['\n",
      "  df['AI']=\"ChatBot: \"+df['Conversation1'].str.split(\"\\[\\|AI\\|\\]\",expand=True)[1]\n"
     ]
    }
   ],
   "source": [
    "df['Human']=\"User: \"+df['Conversation1'].str.split(\"\\[\\|AI\\|\\]\",expand=True)[0]\n",
    "df['AI']=\"ChatBot: \"+df['Conversation1'].str.split(\"\\[\\|AI\\|\\]\",expand=True)[1]"
   ]
  },
  {
   "cell_type": "code",
   "execution_count": 24,
   "id": "6be8c6af-ca09-4137-8660-be45054a3e79",
   "metadata": {},
   "outputs": [],
   "source": [
    "df['Whole']= df['Conversation1'].str.replace('[|AI|]', '')"
   ]
  },
  {
   "cell_type": "code",
   "execution_count": 26,
   "id": "626fd4da-2241-4757-8cbc-bb1e80a1acbf",
   "metadata": {},
   "outputs": [],
   "source": [
    "df_train=df['Whole']"
   ]
  },
  {
   "cell_type": "code",
   "execution_count": 28,
   "id": "1a66efd9-7dba-401e-9397-47f1489aae29",
   "metadata": {},
   "outputs": [
    {
     "data": {
      "text/plain": [
       "'User: Hi.My names Ahdieh.I m from a small city in Iran.My father had a heart attack on sunday as doctor said cpr condition.after 40 minuts he came back to life. now he isnot conscious.he is in ICU.his doctor said his conscious rate is 5.what do you think about his condition?If it is needed I can send you his cardiograf and blood test and the drugs they are using for him in ICU.Kindly tell me can we carry him to a better hospital in Tehran(It takes 4 hours to reach there)?'"
      ]
     },
     "execution_count": 28,
     "metadata": {},
     "output_type": "execute_result"
    }
   ],
   "source": [
    "df['Human'][0]"
   ]
  },
  {
   "cell_type": "code",
   "execution_count": 34,
   "id": "5a9c57d0-acac-48b0-a138-61e3e3dc4bbd",
   "metadata": {},
   "outputs": [
    {
     "data": {
      "text/plain": [
       "0      Hi.My names Ahdieh.I m from a small city in Ir...\n",
       "1      Hello and thank you for your time and assistan...\n",
       "2      Yes! I had double knee replacements on Feb. 20...\n",
       "3      I m extremely itchy ALL OVER the place? I m ex...\n",
       "4      Hi Doctor, I need your help, im really worried...\n",
       "                             ...                        \n",
       "102    I had a MRI done to look at a cyst that was fo...\n",
       "103    hi m from pakistan. my age is 21 years n m fem...\n",
       "104    I had a needle point white patch in the inner ...\n",
       "105    HAVE BEEN EXPIERENCING WHAT THEY CALL BRAIN ZA...\n",
       "106    when i play fast paced video games. after few ...\n",
       "Name: Whole, Length: 107, dtype: object"
      ]
     },
     "execution_count": 34,
     "metadata": {},
     "output_type": "execute_result"
    }
   ],
   "source": [
    "df['Whole']"
   ]
  },
  {
   "cell_type": "code",
   "execution_count": 6,
   "id": "c689411a-efb1-4d18-85d3-40ab74a1d031",
   "metadata": {},
   "outputs": [
    {
     "data": {
      "application/vnd.jupyter.widget-view+json": {
       "model_id": "7616ab5839d24836b640ecd6f4d2ed44",
       "version_major": 2,
       "version_minor": 0
      },
      "text/plain": [
       "model.safetensors:   0%|          | 0.00/548M [00:00<?, ?B/s]"
      ]
     },
     "metadata": {},
     "output_type": "display_data"
    },
    {
     "data": {
      "application/vnd.jupyter.widget-view+json": {
       "model_id": "62f4c7f4fa6a4fc48c20bceff6867ca5",
       "version_major": 2,
       "version_minor": 0
      },
      "text/plain": [
       "generation_config.json:   0%|          | 0.00/124 [00:00<?, ?B/s]"
      ]
     },
     "metadata": {},
     "output_type": "display_data"
    }
   ],
   "source": [
    "# Load Pretrained Model and Tokeneizer\n",
    "tokenizer = GPT2Tokenizer.from_pretrained('gpt2')\n",
    "model = GPT2LMHeadModel.from_pretrained('gpt2')\n"
   ]
  },
  {
   "cell_type": "code",
   "execution_count": 36,
   "id": "98a98c69-f8d3-4152-ab5e-5f24e2778704",
   "metadata": {},
   "outputs": [],
   "source": [
    "#Define Class Structure for DataLoader\n",
    "\n",
    "class TextDataset(Dataset):\n",
    "    def __init__(self, texts, tokenizer, max_length):\n",
    "        self.texts = texts\n",
    "        self.tokenizer = tokenizer\n",
    "        self.max_length = max_length\n",
    "\n",
    "    def __len__(self):\n",
    "        return len(self.texts)\n",
    "\n",
    "    def __getitem__(self, idx):\n",
    "        text = self.texts[idx]\n",
    "        inputs = self.tokenizer(\n",
    "            text,\n",
    "            max_length=self.max_length,\n",
    "            padding='max_length',\n",
    "            truncation=True,\n",
    "            return_tensors=\"pt\"\n",
    "        )\n",
    "        inputs['labels'] = inputs.input_ids.clone()\n",
    "        return {key: val.squeeze(0) for key, val in inputs.items()}"
   ]
  },
  {
   "cell_type": "code",
   "execution_count": 42,
   "id": "b8ff877a-fe1b-45eb-8e41-116c43fecfc0",
   "metadata": {},
   "outputs": [],
   "source": [
    "#Creating dataset and dataloader variables\n",
    "\n",
    "dataset = TextDataset(list(df['Whole']), tokenizer, max_length=512)\n",
    "dataloader = DataLoader(dataset, batch_size=4, shuffle=True)"
   ]
  },
  {
   "cell_type": "code",
   "execution_count": 46,
   "id": "24871ea6-89c3-4a04-9788-dbf0910d5f2a",
   "metadata": {},
   "outputs": [
    {
     "name": "stderr",
     "output_type": "stream",
     "text": [
      "The new embeddings will be initialized from a multivariate normal distribution that has old embeddings' mean and covariance. As described in this article: https://nlp.stanford.edu/~johnhew/vocab-expansion.html. To disable this, use `mean_resizing=False`\n"
     ]
    }
   ],
   "source": [
    "# Add a padding token if not present (necessary for batching)\n",
    "if tokenizer.pad_token is None:\n",
    "    tokenizer.add_special_tokens({'pad_token': '[PAD]'})\n",
    "    model.resize_token_embeddings(len(tokenizer))"
   ]
  },
  {
   "cell_type": "code",
   "execution_count": 51,
   "id": "4e7fe4c3-dc11-4b9c-9b85-8e207b89e7fa",
   "metadata": {},
   "outputs": [
    {
     "name": "stderr",
     "output_type": "stream",
     "text": [
      "C:\\Users\\chris\\anaconda3\\Lib\\site-packages\\transformers\\optimization.py:591: FutureWarning: This implementation of AdamW is deprecated and will be removed in a future version. Use the PyTorch implementation torch.optim.AdamW instead, or set `no_deprecation_warning=True` to disable this warning\n",
      "  warnings.warn(\n"
     ]
    },
    {
     "name": "stdout",
     "output_type": "stream",
     "text": [
      "Epoch 0, Loss: 9.867812156677246\n",
      "Epoch 0, Loss: 7.91363000869751\n",
      "Epoch 0, Loss: 8.202131271362305\n",
      "Epoch 0, Loss: 8.185564041137695\n",
      "Epoch 0, Loss: 7.954638481140137\n",
      "Epoch 0, Loss: 8.737276077270508\n",
      "Epoch 0, Loss: 7.946996212005615\n",
      "Epoch 0, Loss: 7.985766410827637\n",
      "Epoch 0, Loss: 8.048212051391602\n",
      "Epoch 0, Loss: 7.8912248611450195\n",
      "Epoch 0, Loss: 7.478363513946533\n",
      "Epoch 0, Loss: 7.203813076019287\n",
      "Epoch 0, Loss: 8.743584632873535\n",
      "Epoch 0, Loss: 7.000365734100342\n",
      "Epoch 0, Loss: 7.192269325256348\n",
      "Epoch 0, Loss: 7.967451572418213\n",
      "Epoch 0, Loss: 7.140986919403076\n",
      "Epoch 0, Loss: 7.53182315826416\n",
      "Epoch 0, Loss: 7.3150506019592285\n",
      "Epoch 0, Loss: 7.713593482971191\n",
      "Epoch 0, Loss: 7.625945568084717\n",
      "Epoch 0, Loss: 7.357484340667725\n",
      "Epoch 0, Loss: 7.088199138641357\n",
      "Epoch 0, Loss: 6.396111488342285\n",
      "Epoch 0, Loss: 6.804506301879883\n",
      "Epoch 0, Loss: 7.018469333648682\n",
      "Epoch 0, Loss: 7.126985549926758\n",
      "Epoch 1, Loss: 5.821003437042236\n",
      "Epoch 1, Loss: 6.431939125061035\n",
      "Epoch 1, Loss: 6.367490291595459\n",
      "Epoch 1, Loss: 6.784796237945557\n",
      "Epoch 1, Loss: 6.055850982666016\n",
      "Epoch 1, Loss: 6.480819225311279\n",
      "Epoch 1, Loss: 5.984873294830322\n",
      "Epoch 1, Loss: 6.3663249015808105\n",
      "Epoch 1, Loss: 5.6910810470581055\n",
      "Epoch 1, Loss: 6.539179801940918\n",
      "Epoch 1, Loss: 6.3048176765441895\n",
      "Epoch 1, Loss: 5.878054618835449\n",
      "Epoch 1, Loss: 6.3886237144470215\n",
      "Epoch 1, Loss: 6.158667087554932\n",
      "Epoch 1, Loss: 5.547619819641113\n",
      "Epoch 1, Loss: 5.490933895111084\n",
      "Epoch 1, Loss: 5.906642913818359\n",
      "Epoch 1, Loss: 5.577320098876953\n",
      "Epoch 1, Loss: 5.12224006652832\n",
      "Epoch 1, Loss: 5.679564952850342\n",
      "Epoch 1, Loss: 5.505012512207031\n",
      "Epoch 1, Loss: 5.379495620727539\n",
      "Epoch 1, Loss: 5.313477039337158\n",
      "Epoch 1, Loss: 5.296102523803711\n",
      "Epoch 1, Loss: 5.237537860870361\n",
      "Epoch 1, Loss: 4.954627990722656\n",
      "Epoch 1, Loss: 4.621620178222656\n",
      "Epoch 2, Loss: 4.684086799621582\n",
      "Epoch 2, Loss: 4.80845832824707\n",
      "Epoch 2, Loss: 4.670829772949219\n",
      "Epoch 2, Loss: 4.4720778465271\n",
      "Epoch 2, Loss: 4.461685657501221\n",
      "Epoch 2, Loss: 4.379417896270752\n",
      "Epoch 2, Loss: 4.6948065757751465\n",
      "Epoch 2, Loss: 4.313664436340332\n",
      "Epoch 2, Loss: 4.388689041137695\n",
      "Epoch 2, Loss: 4.265385627746582\n",
      "Epoch 2, Loss: 4.187972545623779\n",
      "Epoch 2, Loss: 4.175003528594971\n",
      "Epoch 2, Loss: 4.162492275238037\n",
      "Epoch 2, Loss: 4.094671249389648\n",
      "Epoch 2, Loss: 3.987731695175171\n",
      "Epoch 2, Loss: 3.884869337081909\n",
      "Epoch 2, Loss: 3.8992130756378174\n",
      "Epoch 2, Loss: 3.66990327835083\n",
      "Epoch 2, Loss: 3.805939197540283\n",
      "Epoch 2, Loss: 3.5988121032714844\n",
      "Epoch 2, Loss: 3.7141945362091064\n",
      "Epoch 2, Loss: 3.448617935180664\n",
      "Epoch 2, Loss: 3.475595235824585\n",
      "Epoch 2, Loss: 3.4147846698760986\n",
      "Epoch 2, Loss: 3.161005735397339\n",
      "Epoch 2, Loss: 3.202603816986084\n",
      "Epoch 2, Loss: 3.0427756309509277\n",
      "Epoch 3, Loss: 3.0383286476135254\n",
      "Epoch 3, Loss: 2.8707594871520996\n",
      "Epoch 3, Loss: 2.8487658500671387\n",
      "Epoch 3, Loss: 2.7017650604248047\n",
      "Epoch 3, Loss: 2.5428035259246826\n",
      "Epoch 3, Loss: 2.7447500228881836\n",
      "Epoch 3, Loss: 2.638038158416748\n",
      "Epoch 3, Loss: 2.6312174797058105\n",
      "Epoch 3, Loss: 2.4605183601379395\n",
      "Epoch 3, Loss: 2.372755527496338\n",
      "Epoch 3, Loss: 2.4091436862945557\n",
      "Epoch 3, Loss: 1.989316463470459\n",
      "Epoch 3, Loss: 2.073352575302124\n",
      "Epoch 3, Loss: 2.197807788848877\n",
      "Epoch 3, Loss: 2.043715476989746\n",
      "Epoch 3, Loss: 1.6899480819702148\n",
      "Epoch 3, Loss: 1.932800054550171\n",
      "Epoch 3, Loss: 1.8576804399490356\n",
      "Epoch 3, Loss: 2.0014383792877197\n",
      "Epoch 3, Loss: 2.0377914905548096\n",
      "Epoch 3, Loss: 1.6231486797332764\n",
      "Epoch 3, Loss: 2.063770055770874\n",
      "Epoch 3, Loss: 1.533385157585144\n",
      "Epoch 3, Loss: 1.4115272760391235\n",
      "Epoch 3, Loss: 2.2287065982818604\n",
      "Epoch 3, Loss: 1.974874496459961\n",
      "Epoch 3, Loss: 1.6132428646087646\n",
      "Epoch 4, Loss: 1.7761609554290771\n",
      "Epoch 4, Loss: 2.0709142684936523\n",
      "Epoch 4, Loss: 1.447140097618103\n",
      "Epoch 4, Loss: 1.2111204862594604\n",
      "Epoch 4, Loss: 1.5649430751800537\n",
      "Epoch 4, Loss: 1.5046703815460205\n",
      "Epoch 4, Loss: 2.5099213123321533\n",
      "Epoch 4, Loss: 1.3949064016342163\n",
      "Epoch 4, Loss: 1.2928768396377563\n",
      "Epoch 4, Loss: 1.560752272605896\n",
      "Epoch 4, Loss: 1.802156686782837\n",
      "Epoch 4, Loss: 1.6806530952453613\n",
      "Epoch 4, Loss: 1.4123749732971191\n",
      "Epoch 4, Loss: 1.857512354850769\n",
      "Epoch 4, Loss: 1.5143228769302368\n",
      "Epoch 4, Loss: 1.401244044303894\n",
      "Epoch 4, Loss: 1.5069057941436768\n",
      "Epoch 4, Loss: 2.0163192749023438\n",
      "Epoch 4, Loss: 1.62837815284729\n",
      "Epoch 4, Loss: 1.3812649250030518\n",
      "Epoch 4, Loss: 1.529184103012085\n",
      "Epoch 4, Loss: 1.927536964416504\n",
      "Epoch 4, Loss: 1.4506926536560059\n",
      "Epoch 4, Loss: 1.3104016780853271\n",
      "Epoch 4, Loss: 1.5713165998458862\n",
      "Epoch 4, Loss: 1.1720205545425415\n",
      "Epoch 4, Loss: 1.337288498878479\n"
     ]
    }
   ],
   "source": [
    "#Defining Optimizer and Trining the model\n",
    "optimizer = AdamW(model.parameters(), lr=5e-5)\n",
    "model.train()\n",
    "for epoch in range(5):\n",
    "    for batch in dataloader:\n",
    "        input_ids = batch['input_ids']\n",
    "        attention_mask = batch['attention_mask']\n",
    "        labels = batch['labels']\n",
    "\n",
    "        # Forward pass\n",
    "        outputs = model(input_ids=input_ids, attention_mask=attention_mask, labels=labels)\n",
    "        loss = outputs.loss\n",
    "\n",
    "        # Backpropagation\n",
    "        optimizer.zero_grad()\n",
    "        loss.backward()\n",
    "        optimizer.step()\n",
    "        \n",
    "        print(f'Epoch {epoch}, Loss: {loss.item()}')"
   ]
  },
  {
   "cell_type": "code",
   "execution_count": 63,
   "id": "24f3c646-2349-40be-ae0a-c1c04a5f716f",
   "metadata": {},
   "outputs": [
    {
     "data": {
      "text/plain": [
       "('./GPTModel\\\\tokenizer_epoch_8\\\\tokenizer_config.json',\n",
       " './GPTModel\\\\tokenizer_epoch_8\\\\special_tokens_map.json',\n",
       " './GPTModel\\\\tokenizer_epoch_8\\\\vocab.json',\n",
       " './GPTModel\\\\tokenizer_epoch_8\\\\merges.txt',\n",
       " './GPTModel\\\\tokenizer_epoch_8\\\\added_tokens.json')"
      ]
     },
     "execution_count": 63,
     "metadata": {},
     "output_type": "execute_result"
    }
   ],
   "source": [
    "#Save Model\n",
    "\n",
    "# Define a checkpoint directory\n",
    "checkpoint_dir = './GPTModel'\n",
    "\n",
    "# Ensure the directory exists\n",
    "os.makedirs(checkpoint_dir, exist_ok=True)\n",
    "\n",
    "# Save model checkpoint with unique filename (including epoch number)\n",
    "model.save_pretrained(os.path.join(checkpoint_dir, f'model_epoch_{epoch}'))\n",
    "\n",
    "# Save the optimizer state with unique filename\n",
    "torch.save(optimizer.state_dict(), os.path.join(checkpoint_dir, f'optimizer_epoch_{epoch}.pt'))\n",
    "\n",
    "# Save tokenizer\n",
    "tokenizer.save_pretrained(os.path.join(checkpoint_dir, f'tokenizer_epoch_{epoch}'))"
   ]
  },
  {
   "cell_type": "code",
   "execution_count": 64,
   "id": "c077197b-7511-42fe-b97d-723cf7ed5e66",
   "metadata": {},
   "outputs": [
    {
     "name": "stderr",
     "output_type": "stream",
     "text": [
      "C:\\Users\\chris\\AppData\\Local\\Temp\\ipykernel_25484\\650055237.py:9: FutureWarning: You are using `torch.load` with `weights_only=False` (the current default value), which uses the default pickle module implicitly. It is possible to construct malicious pickle data which will execute arbitrary code during unpickling (See https://github.com/pytorch/pytorch/blob/main/SECURITY.md#untrusted-models for more details). In a future release, the default value for `weights_only` will be flipped to `True`. This limits the functions that could be executed during unpickling. Arbitrary objects will no longer be allowed to be loaded via this mode unless they are explicitly allowlisted by the user via `torch.serialization.add_safe_globals`. We recommend you start setting `weights_only=True` for any use case where you don't have full control of the loaded file. Please open an issue on GitHub for any issues related to this experimental feature.\n",
      "  optimizer.load_state_dict(torch.load(os.path.join(checkpoint_dir, f'optimizer_epoch_{latest_epoch}.pt')))\n"
     ]
    }
   ],
   "source": [
    "#Load Model\n",
    "\n",
    "# Get the latest checkpoint directory\n",
    "latest_epoch = max([int(folder.split('_')[2]) for folder in os.listdir(checkpoint_dir) if 'model_epoch' in folder])\n",
    "\n",
    "# Load the model from the latest checkpoint\n",
    "model = GPT2LMHeadModel.from_pretrained(os.path.join(checkpoint_dir, f'model_epoch_{latest_epoch}'))\n",
    "\n",
    "# Load optimizer state\n",
    "optimizer = torch.optim.AdamW(model.parameters())  # Initialize optimizer\n",
    "optimizer.load_state_dict(torch.load(os.path.join(checkpoint_dir, f'optimizer_epoch_{latest_epoch}.pt')))\n",
    "\n",
    "# Load tokenizer\n",
    "tokenizer = GPT2Tokenizer.from_pretrained(os.path.join(checkpoint_dir, f'tokenizer_epoch_{latest_epoch}'))"
   ]
  },
  {
   "cell_type": "code",
   "execution_count": 67,
   "id": "a22de4c6-7a63-4196-bdfd-ac447ef68382",
   "metadata": {},
   "outputs": [
    {
     "name": "stdout",
     "output_type": "stream",
     "text": [
      "Epoch 9, Loss: 1.3381669521331787\n",
      "Epoch 9, Loss: 1.1635215282440186\n",
      "Epoch 9, Loss: 1.1753144264221191\n",
      "Epoch 9, Loss: 1.1016569137573242\n",
      "Epoch 9, Loss: 1.0951319932937622\n",
      "Epoch 9, Loss: 1.2017995119094849\n",
      "Epoch 9, Loss: 0.9554288983345032\n",
      "Epoch 9, Loss: 1.2405176162719727\n",
      "Epoch 9, Loss: 1.1678147315979004\n",
      "Epoch 9, Loss: 1.3959702253341675\n",
      "Epoch 9, Loss: 1.1414330005645752\n",
      "Epoch 9, Loss: 1.3047692775726318\n",
      "Epoch 9, Loss: 1.0674877166748047\n",
      "Epoch 9, Loss: 1.018944501876831\n",
      "Epoch 9, Loss: 1.1247917413711548\n",
      "Epoch 9, Loss: 1.610595941543579\n",
      "Epoch 9, Loss: 0.9228960871696472\n",
      "Epoch 9, Loss: 1.1650652885437012\n",
      "Epoch 9, Loss: 1.2311526536941528\n",
      "Epoch 9, Loss: 1.387145757675171\n",
      "Epoch 9, Loss: 1.1800094842910767\n",
      "Epoch 9, Loss: 0.9026248455047607\n",
      "Epoch 9, Loss: 1.2477115392684937\n",
      "Epoch 9, Loss: 0.9140752553939819\n",
      "Epoch 9, Loss: 1.11728835105896\n",
      "Epoch 9, Loss: 1.1789889335632324\n",
      "Epoch 9, Loss: 1.1690481901168823\n",
      "Epoch 10, Loss: 1.177520990371704\n",
      "Epoch 10, Loss: 1.0360409021377563\n",
      "Epoch 10, Loss: 1.0401090383529663\n",
      "Epoch 10, Loss: 1.0250178575515747\n",
      "Epoch 10, Loss: 0.9926571249961853\n",
      "Epoch 10, Loss: 1.2707915306091309\n",
      "Epoch 10, Loss: 0.9957022666931152\n",
      "Epoch 10, Loss: 0.8859517574310303\n",
      "Epoch 10, Loss: 1.30190908908844\n",
      "Epoch 10, Loss: 1.0394964218139648\n",
      "Epoch 10, Loss: 0.9532157778739929\n",
      "Epoch 10, Loss: 1.1753336191177368\n",
      "Epoch 10, Loss: 1.1905437707901\n",
      "Epoch 10, Loss: 1.03231942653656\n",
      "Epoch 10, Loss: 1.0504918098449707\n",
      "Epoch 10, Loss: 1.1412075757980347\n",
      "Epoch 10, Loss: 1.0699383020401\n",
      "Epoch 10, Loss: 1.117847204208374\n",
      "Epoch 10, Loss: 1.1238021850585938\n",
      "Epoch 10, Loss: 1.4751015901565552\n",
      "Epoch 10, Loss: 0.8608100414276123\n",
      "Epoch 10, Loss: 1.0916403532028198\n",
      "Epoch 10, Loss: 1.5272327661514282\n",
      "Epoch 10, Loss: 0.9272406697273254\n",
      "Epoch 10, Loss: 1.0214347839355469\n",
      "Epoch 10, Loss: 1.0760785341262817\n",
      "Epoch 10, Loss: 1.0688859224319458\n",
      "Epoch 11, Loss: 0.8690616488456726\n",
      "Epoch 11, Loss: 0.8659538626670837\n",
      "Epoch 11, Loss: 1.1764976978302002\n",
      "Epoch 11, Loss: 0.8879412412643433\n",
      "Epoch 11, Loss: 0.9289813041687012\n",
      "Epoch 11, Loss: 0.8849464654922485\n",
      "Epoch 11, Loss: 1.3949856758117676\n",
      "Epoch 11, Loss: 1.1419137716293335\n",
      "Epoch 11, Loss: 0.9626882076263428\n",
      "Epoch 11, Loss: 0.9206731915473938\n",
      "Epoch 11, Loss: 1.1513104438781738\n",
      "Epoch 11, Loss: 0.8174565434455872\n",
      "Epoch 11, Loss: 1.0805531740188599\n",
      "Epoch 11, Loss: 0.8067996501922607\n",
      "Epoch 11, Loss: 1.043715238571167\n",
      "Epoch 11, Loss: 1.4046189785003662\n",
      "Epoch 11, Loss: 0.8254279494285583\n",
      "Epoch 11, Loss: 1.1871100664138794\n",
      "Epoch 11, Loss: 0.7622966766357422\n",
      "Epoch 11, Loss: 1.0279759168624878\n",
      "Epoch 11, Loss: 0.7972517013549805\n",
      "Epoch 11, Loss: 1.208569884300232\n",
      "Epoch 11, Loss: 1.245624303817749\n",
      "Epoch 11, Loss: 0.9318609833717346\n",
      "Epoch 11, Loss: 0.9127711057662964\n",
      "Epoch 11, Loss: 1.1637974977493286\n",
      "Epoch 11, Loss: 1.3164348602294922\n",
      "Epoch 12, Loss: 0.8729569315910339\n",
      "Epoch 12, Loss: 1.0241036415100098\n",
      "Epoch 12, Loss: 1.177487850189209\n",
      "Epoch 12, Loss: 0.9542080760002136\n",
      "Epoch 12, Loss: 1.0187971591949463\n",
      "Epoch 12, Loss: 1.1067012548446655\n",
      "Epoch 12, Loss: 0.8416765332221985\n",
      "Epoch 12, Loss: 0.9338736534118652\n",
      "Epoch 12, Loss: 0.9036349058151245\n",
      "Epoch 12, Loss: 0.9376786947250366\n",
      "Epoch 12, Loss: 0.8015698790550232\n",
      "Epoch 12, Loss: 0.6650313138961792\n",
      "Epoch 12, Loss: 0.9180182218551636\n",
      "Epoch 12, Loss: 0.8406397104263306\n",
      "Epoch 12, Loss: 0.9315391182899475\n",
      "Epoch 12, Loss: 1.0081413984298706\n",
      "Epoch 12, Loss: 0.86956387758255\n",
      "Epoch 12, Loss: 0.9603396058082581\n",
      "Epoch 12, Loss: 1.0196160078048706\n",
      "Epoch 12, Loss: 0.9882205724716187\n",
      "Epoch 12, Loss: 1.0145728588104248\n",
      "Epoch 12, Loss: 0.9018573760986328\n",
      "Epoch 12, Loss: 0.9307651519775391\n",
      "Epoch 12, Loss: 1.0207436084747314\n",
      "Epoch 12, Loss: 1.129459261894226\n",
      "Epoch 12, Loss: 1.121476411819458\n",
      "Epoch 12, Loss: 1.032129168510437\n"
     ]
    }
   ],
   "source": [
    "#Code to train back an fort\n",
    "model.train()\n",
    "for epoch in range(latest_epoch+1, latest_epoch+5):\n",
    "    for batch in dataloader:\n",
    "        input_ids = batch['input_ids']\n",
    "        attention_mask = batch['attention_mask']\n",
    "        labels = batch['labels']\n",
    "\n",
    "        # Forward pass\n",
    "        outputs = model(input_ids=input_ids, attention_mask=attention_mask, labels=labels)\n",
    "        loss = outputs.loss\n",
    "\n",
    "        # Backpropagation\n",
    "        optimizer.zero_grad()\n",
    "        loss.backward()\n",
    "        optimizer.step()\n",
    "        \n",
    "        print(f'Epoch {epoch}, Loss: {loss.item()}')"
   ]
  },
  {
   "cell_type": "code",
   "execution_count": 79,
   "id": "740625b0-b49d-45c1-8600-cdd5f9e76daa",
   "metadata": {},
   "outputs": [
    {
     "name": "stderr",
     "output_type": "stream",
     "text": [
      "C:\\Users\\chris\\anaconda3\\Lib\\site-packages\\gradio\\blocks.py:1048: UserWarning: Cannot load compact. Caught Exception: 404 Client Error: Not Found for url: https://huggingface.co/api/spaces/compact (Request ID: Root=1-675b6798-358cb6322c540f7e37bab9b3;1a88017d-4255-4ec9-8ab5-df4b1a756ab4)\n",
      "\n",
      "Sorry, we can't find the page you are looking for.\n",
      "  warnings.warn(f\"Cannot load {theme}. Caught Exception: {str(e)}\")\n",
      "C:\\Users\\chris\\anaconda3\\Lib\\site-packages\\gradio\\components\\chatbot.py:243: UserWarning: The 'tuples' format for chatbot messages is deprecated and will be removed in a future version of Gradio. Please set type='messages' instead, which uses openai-style 'role' and 'content' keys.\n",
      "  warnings.warn(\n"
     ]
    },
    {
     "name": "stdout",
     "output_type": "stream",
     "text": [
      "* Running on local URL:  http://127.0.0.1:7863\n",
      "\n",
      "Could not create share link. Please check your internet connection or our status page: https://status.gradio.app.\n"
     ]
    },
    {
     "data": {
      "text/html": [
       "<div><iframe src=\"http://127.0.0.1:7863/\" width=\"100%\" height=\"500\" allow=\"autoplay; camera; microphone; clipboard-read; clipboard-write;\" frameborder=\"0\" allowfullscreen></iframe></div>"
      ],
      "text/plain": [
       "<IPython.core.display.HTML object>"
      ]
     },
     "metadata": {},
     "output_type": "display_data"
    },
    {
     "data": {
      "text/plain": []
     },
     "execution_count": 79,
     "metadata": {},
     "output_type": "execute_result"
    }
   ],
   "source": [
    "#function to chat with the bot and Gradio \n",
    "def chat_with_bot(input_text):\n",
    "    # Add task prefix\n",
    "    model.eval()\n",
    "    input_text = f\"User: {input_text}\"\n",
    "    input_ids = tokenizer.encode(input_text, return_tensors='pt')\n",
    "    print(input_ids)\n",
    "    output_ids = model.generate(input_ids, max_length=300)\n",
    "    print(output_ids)\n",
    "    response = tokenizer.decode(output_ids[0], skip_special_tokens=True)\n",
    "    return response\n",
    "\n",
    "def predict_disease(input, history):\n",
    "   \n",
    "    return chat_with_bot(input)\n",
    "    \n",
    "interface = gr.ChatInterface(\n",
    "    fn=predict_disease,\n",
    "    title=\"DocRoboto\",\n",
    "    description=\"Predict diseases based on symptoms entered by the user.\",\n",
    "    theme=\"compact\", \n",
    ")\n",
    "interface.launch(share=True, inline=True)"
   ]
  },
  {
   "cell_type": "code",
   "execution_count": null,
   "id": "042a9180-c205-4645-aae7-8d501cdc5053",
   "metadata": {},
   "outputs": [],
   "source": []
  },
  {
   "cell_type": "code",
   "execution_count": null,
   "id": "71d468d3-dec5-42d5-921f-a29208025930",
   "metadata": {},
   "outputs": [],
   "source": []
  }
 ],
 "metadata": {
  "kernelspec": {
   "display_name": "Python 3 (ipykernel)",
   "language": "python",
   "name": "python3"
  },
  "language_info": {
   "codemirror_mode": {
    "name": "ipython",
    "version": 3
   },
   "file_extension": ".py",
   "mimetype": "text/x-python",
   "name": "python",
   "nbconvert_exporter": "python",
   "pygments_lexer": "ipython3",
   "version": "3.12.4"
  }
 },
 "nbformat": 4,
 "nbformat_minor": 5
}
